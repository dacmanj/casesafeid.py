{
 "cells": [
  {
   "cell_type": "code",
   "execution_count": 27,
   "id": "9592c6e9-232a-4559-a722-b23e74981456",
   "metadata": {},
   "outputs": [
    {
     "data": {
      "text/plain": [
       "'0038b00002gLO0zAAG'"
      ]
     },
     "execution_count": 27,
     "metadata": {},
     "output_type": "execute_result"
    }
   ],
   "source": [
    "example18 = '0038b00002gLO0zAAG'\n",
    "id = '0038b00002gLO0z'\n",
    "\n",
    "def casessafeid(sfid):\n",
    "    sfid = sfid[0:15]\n",
    "    checksum = ''\n",
    "    for bidx in range(0, 3):\n",
    "        block = sfid[5*bidx:5*(bidx+1)]\n",
    "        block_checksum_idx = 0\n",
    "        for cidx in range(0,5):\n",
    "            x = block[cidx]\n",
    "            if x.isupper():\n",
    "                block_checksum_idx+=1<<cidx\n",
    "        checksum += \"ABCDEFGHIJKLMNOPQRSTUVWXYZ012345\"[block_checksum_idx]\n",
    "    \n",
    "    return sfid+checksum\n",
    "\n",
    "\n",
    "assert casessafeid(id) == example18\n",
    "casessafeid(id)"
   ]
  },
  {
   "cell_type": "code",
   "execution_count": null,
   "id": "9ea67fff-486d-4d26-a94c-001fe343a43c",
   "metadata": {},
   "outputs": [],
   "source": [
    "\"\"\"\n",
    "#algorithm from https://help.salesforce.com/s/articleView?id=000319308&type=1\n",
    "\t\tvar addon=\"\";\n",
    "\t\tfor(var block=0;block<3; block++)\n",
    "\t\t{\n",
    "\t\t\tvar loop=0;\n",
    "\t\t\tfor(var position=0;position<5;position++){\n",
    "\t\t\t\tvar current=input.charAt(block*5+position);\n",
    "\t\t\t\tif(current>=\"A\" && current<=\"Z\")\n",
    "\t\t\t\t\tloop+=1<<position;\n",
    "\t\t\t}\n",
    "\t\t\taddon+=\"ABCDEFGHIJKLMNOPQRSTUVWXYZ012345\".charAt(loop);\n",
    "\t\t}\n",
    "\t\toutput=(input+addon);\n",
    "\"\"\""
   ]
  },
  {
   "cell_type": "code",
   "execution_count": null,
   "id": "451ce203-4282-4df3-bfcf-7249ca464c69",
   "metadata": {},
   "outputs": [],
   "source": []
  }
 ],
 "metadata": {
  "kernelspec": {
   "display_name": "Python 3 (ipykernel)",
   "language": "python",
   "name": "python3"
  },
  "language_info": {
   "codemirror_mode": {
    "name": "ipython",
    "version": 3
   },
   "file_extension": ".py",
   "mimetype": "text/x-python",
   "name": "python",
   "nbconvert_exporter": "python",
   "pygments_lexer": "ipython3",
   "version": "3.10.1"
  }
 },
 "nbformat": 4,
 "nbformat_minor": 5
}
